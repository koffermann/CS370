{
 "cells": [
  {
   "cell_type": "markdown",
   "metadata": {},
   "source": [
    "# Treasure Hunt Game Notebook\n",
    "\n",
    "## Read and Review Your Starter Code\n",
    "The theme of this project is a popular treasure hunt game in which the player needs to find the treasure before the pirate does. While you will not be developing the entire game, you will write the part of the game that represents the intelligent agent, which is a pirate in this case. The pirate will try to find the optimal path to the treasure using deep Q-learning. \n",
    "\n",
    "You have been provided with two Python classes and this notebook to help you with this assignment. The first class, TreasureMaze.py, represents the environment, which includes a maze object defined as a matrix. The second class, GameExperience.py, stores the episodes – that is, all the states that come in between the initial state and the terminal state. This is later used by the agent for learning by experience, called \"exploration\". This notebook shows how to play a game. Your task is to complete the deep Q-learning implementation for which a skeleton implementation has been provided. The code blocs you will need to complete has #TODO as a header.\n",
    "\n",
    "First, read and review the next few code and instruction blocks to understand the code that you have been given."
   ]
  },
  {
   "cell_type": "code",
   "execution_count": 68,
   "metadata": {},
   "outputs": [],
   "source": [
    "from __future__ import print_function\n",
    "import os, sys, time, datetime, json, random\n",
    "import numpy as np\n",
    "from keras.models import Sequential\n",
    "from keras.layers.core import Dense, Activation\n",
    "from keras.optimizers import SGD , Adam, RMSprop\n",
    "from keras.layers.advanced_activations import PReLU\n",
    "import matplotlib.pyplot as plt\n",
    "from TreasureMaze import TreasureMaze\n",
    "from GameExperience import GameExperience\n",
    "%matplotlib inline"
   ]
  },
  {
   "cell_type": "markdown",
   "metadata": {},
   "source": [
    "The following code block contains an 8x8 matrix that will be used as a maze object:"
   ]
  },
  {
   "cell_type": "code",
   "execution_count": 69,
   "metadata": {},
   "outputs": [],
   "source": [
    "maze = np.array([\n",
    "    [ 1.,  0.,  1.,  1.,  1.,  1.,  1.,  1.],\n",
    "    [ 1.,  0.,  1.,  1.,  1.,  0.,  1.,  1.],\n",
    "    [ 1.,  1.,  1.,  1.,  0.,  1.,  0.,  1.],\n",
    "    [ 1.,  1.,  1.,  0.,  1.,  1.,  1.,  1.],\n",
    "    [ 1.,  1.,  0.,  1.,  1.,  1.,  1.,  1.],\n",
    "    [ 1.,  1.,  1.,  0.,  1.,  0.,  0.,  0.],\n",
    "    [ 1.,  1.,  1.,  0.,  1.,  1.,  1.,  1.],\n",
    "    [ 1.,  1.,  1.,  1.,  0.,  1.,  1.,  1.]\n",
    "])"
   ]
  },
  {
   "cell_type": "markdown",
   "metadata": {},
   "source": [
    "This helper function allows a visual representation of the maze object:"
   ]
  },
  {
   "cell_type": "code",
   "execution_count": 70,
   "metadata": {},
   "outputs": [],
   "source": [
    "def show(qmaze):\n",
    "    plt.grid('on')\n",
    "    nrows, ncols = qmaze.maze.shape\n",
    "    ax = plt.gca()\n",
    "    ax.set_xticks(np.arange(0.5, nrows, 1))\n",
    "    ax.set_yticks(np.arange(0.5, ncols, 1))\n",
    "    ax.set_xticklabels([])\n",
    "    ax.set_yticklabels([])\n",
    "    canvas = np.copy(qmaze.maze)\n",
    "    for row,col in qmaze.visited:\n",
    "        canvas[row,col] = 0.6\n",
    "    pirate_row, pirate_col, _ = qmaze.state\n",
    "    canvas[pirate_row, pirate_col] = 0.3   # pirate cell\n",
    "    canvas[nrows-1, ncols-1] = 0.9 # treasure cell\n",
    "    img = plt.imshow(canvas, interpolation='none', cmap='gray')\n",
    "    return img"
   ]
  },
  {
   "cell_type": "markdown",
   "metadata": {},
   "source": [
    "The pirate agent can move in four directions: left, right, up, and down. \n",
    "\n",
    "While the agent primarily learns by experience through exploitation, often, the agent can choose to explore the environment to find previously undiscovered paths. This is called \"exploration\" and is defined by epsilon. This value is typically a lower value such as 0.1, which means for every ten attempts, the agent will attempt to learn by experience nine times and will randomly explore a new path one time. You are encouraged to try various values for the exploration factor and see how the algorithm performs."
   ]
  },
  {
   "cell_type": "code",
   "execution_count": 71,
   "metadata": {},
   "outputs": [],
   "source": [
    "LEFT = 0\n",
    "UP = 1\n",
    "RIGHT = 2\n",
    "DOWN = 3\n",
    "\n",
    "\n",
    "# Exploration factor\n",
    "epsilon = 0.1\n",
    "\n",
    "# Actions dictionary\n",
    "actions_dict = {\n",
    "    LEFT: 'left',\n",
    "    UP: 'up',\n",
    "    RIGHT: 'right',\n",
    "    DOWN: 'down',\n",
    "}\n",
    "\n",
    "num_actions = len(actions_dict)\n"
   ]
  },
  {
   "cell_type": "markdown",
   "metadata": {},
   "source": [
    "The sample code block and output below show creating a maze object and performing one action (DOWN), which returns the reward. The resulting updated environment is visualized."
   ]
  },
  {
   "cell_type": "code",
   "execution_count": 72,
   "metadata": {},
   "outputs": [
    {
     "name": "stdout",
     "output_type": "stream",
     "text": [
      "reward= -0.04\n"
     ]
    },
    {
     "data": {
      "text/plain": [
       "<matplotlib.image.AxesImage at 0x25bbf018508>"
      ]
     },
     "execution_count": 72,
     "metadata": {},
     "output_type": "execute_result"
    },
    {
     "data": {
      "image/png": "[encoded data removed]",
      "text/plain": [
       "<Figure size 432x288 with 1 Axes>"
      ]
     },
     "metadata": {
      "needs_background": "light"
     },
     "output_type": "display_data"
    }
   ],
   "source": [
    "qmaze = TreasureMaze(maze)\n",
    "canvas, reward, game_over = qmaze.act(DOWN)\n",
    "print(\"reward=\", reward)\n",
    "show(qmaze)"
   ]
  },
  {
   "cell_type": "markdown",
   "metadata": {},
   "source": [
    "This function simulates a full game based on the provided trained model. The other parameters include the TreasureMaze object and the starting position of the pirate."
   ]
  },
  {
   "cell_type": "code",
   "execution_count": 73,
   "metadata": {},
   "outputs": [],
   "source": [
    "def play_game(model, qmaze, pirate_cell):\n",
    "    qmaze.reset(pirate_cell)\n",
    "    envstate = qmaze.observe()\n",
    "    while True:\n",
    "        prev_envstate = envstate\n",
    "        # get next action\n",
    "        q = model.predict(prev_envstate)\n",
    "        action = np.argmax(q[0])\n",
    "\n",
    "        # apply action, get rewards and new state\n",
    "        envstate, reward, game_status = qmaze.act(action)\n",
    "        if game_status == 'win':\n",
    "            return True\n",
    "        elif game_status == 'lose':\n",
    "            return False"
   ]
  },
  {
   "cell_type": "markdown",
   "metadata": {},
   "source": [
    "This function helps you to determine whether the pirate can win any game at all. If your maze is not well designed, the pirate may not win any game at all. In this case, your training would not yield any result. The provided maze in this notebook ensures that there is a path to win and you can run this method to check."
   ]
  },
  {
   "cell_type": "code",
   "execution_count": 74,
   "metadata": {},
   "outputs": [],
   "source": [
    "def completion_check(model, qmaze):\n",
    "    for cell in qmaze.free_cells:\n",
    "        if not qmaze.valid_actions(cell):\n",
    "            return False\n",
    "        if not play_game(model, qmaze, cell):\n",
    "            return False\n",
    "    return True"
   ]
  },
  {
   "cell_type": "markdown",
   "metadata": {},
   "source": [
    "The code you have been given in this block will build the neural network model. Review the code and note the number of layers, as well as the activation, optimizer, and loss functions that are used to train the model."
   ]
  },
  {
   "cell_type": "code",
   "execution_count": 75,
   "metadata": {},
   "outputs": [],
   "source": [
    "def build_model(maze):\n",
    "    model = Sequential()\n",
    "    model.add(Dense(maze.size, input_shape=(maze.size,)))\n",
    "    model.add(PReLU())\n",
    "    model.add(Dense(maze.size))\n",
    "    model.add(PReLU())\n",
    "    model.add(Dense(num_actions))\n",
    "    model.compile(optimizer='adam', loss='mse')\n",
    "    return model"
   ]
  },
  {
   "cell_type": "markdown",
   "metadata": {},
   "source": [
    "# #TODO: Complete the Q-Training Algorithm Code Block\n",
    "\n",
    "This is your deep Q-learning implementation. The goal of your deep Q-learning implementation is to find the best possible navigation sequence that results in reaching the treasure cell while maximizing the reward. In your implementation, you need to determine the optimal number of epochs to achieve a 100% win rate.\n",
    "\n",
    "You will need to complete the section starting with #pseudocode. The pseudocode has been included for you."
   ]
  },
  {
   "cell_type": "code",
   "execution_count": 76,
   "metadata": {},
   "outputs": [],
   "source": [
    "def qtrain(model, maze, **opt):\n",
    "\n",
    "    # exploration factor\n",
    "    global epsilon \n",
    "\n",
    "    # number of epochs\n",
    "    n_epoch = opt.get('n_epoch', 15000)\n",
    "\n",
    "    # maximum memory to store episodes\n",
    "    max_memory = opt.get('max_memory', 1000)\n",
    "\n",
    "    # maximum data size for training\n",
    "    data_size = opt.get('data_size', 50)\n",
    "\n",
    "    # start time\n",
    "    start_time = datetime.datetime.now()\n",
    "\n",
    "    # Construct environment/game from numpy array: maze (see above)\n",
    "    qmaze = TreasureMaze(maze)\n",
    "\n",
    "    # Initialize experience replay object\n",
    "    experience = GameExperience(model, max_memory=max_memory)\n",
    "    \n",
    "    win_history = []   # history of win/lose game\n",
    "    hsize = qmaze.maze.size//2   # history window size\n",
    "    win_rate = 0.0\n",
    "    \n",
    "    \n",
    "    for epoch in range(n_epoch):\n",
    "        \n",
    "        print('\\n')\n",
    "        print('=============================================================')\n",
    "        print('\\n')\n",
    "\n",
    "        #    Agent_cell = randomly select a free cell\n",
    "        #    Reset the maze with agent set to above position\n",
    "        #    Hint: Review the reset method in the TreasureMaze.py class.\n",
    "        #    envstate = Environment.current_state\n",
    "        #    Hint: Review the observe method in the TreasureMaze.py class.\n",
    "        \n",
    "        \n",
    "        agent_cell = random.choice(qmaze.free_cells) \n",
    "        qmaze.reset(agent_cell)\n",
    "        loss = 0\n",
    "        n_episodes = 0\n",
    "        \n",
    "        envstate = qmaze.observe()\n",
    "        \n",
    "\n",
    "            #    While state is not game over:\n",
    "            #        previous_envstate = envstate\n",
    "            #        Action = randomly choose action (left, right, up, down) either by exploration or by exploitation\n",
    "            #        envstate, reward, game_status = qmaze.act(action)\n",
    "            #    Hint: Review the act method in the TreasureMaze.py class.\n",
    "\n",
    "\n",
    "        while qmaze.game_status() == 'not_over':\n",
    "            previous_envstate = envstate\n",
    "            valid_actions = qmaze.valid_actions()\n",
    "            action = random.choice(valid_actions)\n",
    "            envstate, reward, game_status = qmaze.act(action)  \n",
    "            \n",
    "            \n",
    "            if not valid_actions: break\n",
    "            \n",
    "            if np.random.rand() < epsilon:\n",
    "                action = random.choice(valid_actions)\n",
    "            else:\n",
    "                action = np.argmax(experience.predict(envstate))\n",
    "                              \n",
    "            \n",
    "            \n",
    "            \n",
    "            \n",
    "            #   episode = [previous_envstate, action, reward, envstate, game_status]\n",
    "            #    Store episode in Experience replay object\n",
    "            #    Hint: Review the remember method in the GameExperience.py class.\n",
    "                \n",
    "            episode = [previous_envstate, action, reward, envstate, game_status] \n",
    "            experience.remember(episode)\n",
    "            n_episodes += 1\n",
    "            \n",
    "\n",
    "            #   Train neural network model and evaluate loss\n",
    "            #    Hint: Call GameExperience.get_data to retrieve training data (input and target) and pass to model.fit method \n",
    "            #    to train the model. You can call model.evaluate to determine loss.\n",
    "            \n",
    "\n",
    "            inputs, targets = experience.get_data(data_size = 32)\n",
    "            model.fit(inputs, targets, epochs = 1000, batch_size = 64, verbose = 0)\n",
    "            loss = model.evaluate(inputs, targets)\n",
    "            \n",
    "           \n",
    "\n",
    "            #    If the win rate is above the threshold and your model passes the completion check, that would be your epoch.             \n",
    "                \n",
    "            if game_status == 'win':\n",
    "                win_history.append(1)\n",
    "                win_rate = sum(win_history) / len(win_history)\n",
    "                break\n",
    "            elif game_status == 'lose':\n",
    "                win_history.append(0)\n",
    "                win_rate = sum(win_history) / len(win_history)\n",
    "                break\n",
    "            if win_rate > epsilon:\n",
    "                print(\"The win rate is above the threshold.\")\n",
    "                if completion_check(model, qmaze) == True:\n",
    "                    print(\"The model passes the completion check.\")\n",
    "                \n",
    "           \n",
    "                \n",
    "                \n",
    "\n",
    "        #Print the epoch, loss, episodes, win count, and win rate for each epoch\n",
    "            dt = datetime.datetime.now() - start_time\n",
    "            t = format_time(dt.total_seconds())\n",
    "            template = \"Epoch: {:03d}/{:d} | Loss: {:.4f} | Episodes: {:d} | Win count: {:d} | Win rate: {:.3f} | time: {}\"\n",
    "            print(template.format(epoch, n_epoch-1, loss, n_episodes, sum(win_history), win_rate, t))\n",
    "            # We simply check if training has exhausted all free cells and if in all\n",
    "            # cases the agent won.\n",
    "            if win_rate > 0.9 : epsilon = 0.05\n",
    "            if sum(win_history[-hsize:]) == hsize and completion_check(model, qmaze):\n",
    "                print(\"Reached 100%% win rate at epoch: %d\" % (epoch,))\n",
    "                break\n",
    "\n",
    "\n",
    "        # Determine the total time for training\n",
    "        dt = datetime.datetime.now() - start_time\n",
    "        seconds = dt.total_seconds()\n",
    "        t = format_time(seconds)\n",
    "\n",
    "        print(\"n_epoch: %d, max_mem: %d, data: %d, time: %s\" % (epoch, max_memory, data_size, t))\n",
    "        return seconds\n",
    "\n",
    "# This is a small utility for printing readable time strings:\n",
    "def format_time(seconds):\n",
    "    if seconds < 400:\n",
    "        s = float(seconds)\n",
    "        return \"%.1f seconds\" % (s,)\n",
    "    elif seconds < 4000:\n",
    "        m = seconds / 60.0\n",
    "        return \"%.2f minutes\" % (m,)\n",
    "    else:\n",
    "        h = seconds / 3600.0\n",
    "        return \"%.2f hours\" % (h,)\n",
    "    \n",
    "\n"
   ]
  },
  {
   "cell_type": "markdown",
   "metadata": {},
   "source": [
    "## Test Your Model\n",
    "\n",
    "Now we will start testing the deep Q-learning implementation. To begin, select **Cell**, then **Run All** from the menu bar. This will run your notebook. As it runs, you should see output begin to appear beneath the next few cells. The code below creates an instance of TreasureMaze."
   ]
  },
  {
   "cell_type": "code",
   "execution_count": 77,
   "metadata": {},
   "outputs": [
    {
     "data": {
      "text/plain": [
       "<matplotlib.image.AxesImage at 0x25bc0427148>"
      ]
     },
     "execution_count": 77,
     "metadata": {},
     "output_type": "execute_result"
    },
    {
     "data": {
      "image/png": "[encoded data removed]",
      "text/plain": [
       "<Figure size 432x288 with 1 Axes>"
      ]
     },
     "metadata": {
      "needs_background": "light"
     },
     "output_type": "display_data"
    }
   ],
   "source": [
    "qmaze = TreasureMaze(maze)\n",
    "show(qmaze)"
   ]
  },
  {
   "cell_type": "markdown",
   "metadata": {},
   "source": [
    "In the next code block, you will build your model and train it using deep Q-learning. Note: This step takes several minutes to fully run."
   ]
  },
  {
   "cell_type": "code",
   "execution_count": 78,
   "metadata": {},
   "outputs": [
    {
     "name": "stdout",
     "output_type": "stream",
     "text": [
      "\n",
      "\n",
      "=============================================================\n",
      "\n",
      "\n",
      "1/1 [==============================] - 0s 73ms/step\n",
      "Epoch: 000/14999 | Loss: 0.0000 | Episodes: 1 | Win count: 0 | Win rate: 0.000 | time: 3.0 seconds\n",
      "2/2 [==============================] - 0s 262us/step\n",
      "Epoch: 000/14999 | Loss: 0.0000 | Episodes: 2 | Win count: 0 | Win rate: 0.000 | time: 4.5 seconds\n",
      "3/3 [==============================] - 0s 177us/step\n",
      "Epoch: 000/14999 | Loss: 0.0000 | Episodes: 3 | Win count: 0 | Win rate: 0.000 | time: 5.9 seconds\n",
      "4/4 [==============================] - 0s 137us/step\n",
      "Epoch: 000/14999 | Loss: 0.0000 | Episodes: 4 | Win count: 0 | Win rate: 0.000 | time: 7.5 seconds\n",
      "5/5 [==============================] - 0s 106us/step\n",
      "Epoch: 000/14999 | Loss: 0.0002 | Episodes: 5 | Win count: 0 | Win rate: 0.000 | time: 9.0 seconds\n",
      "6/6 [==============================] - 0s 88us/step\n",
      "Epoch: 000/14999 | Loss: 0.0009 | Episodes: 6 | Win count: 0 | Win rate: 0.000 | time: 10.6 seconds\n",
      "7/7 [==============================] - 0s 76us/step\n",
      "Epoch: 000/14999 | Loss: 0.0033 | Episodes: 7 | Win count: 0 | Win rate: 0.000 | time: 12.2 seconds\n",
      "8/8 [==============================] - 0s 66us/step\n",
      "Epoch: 000/14999 | Loss: 0.0020 | Episodes: 8 | Win count: 0 | Win rate: 0.000 | time: 13.7 seconds\n",
      "9/9 [==============================] - 0s 59us/step\n",
      "Epoch: 000/14999 | Loss: 0.0043 | Episodes: 9 | Win count: 0 | Win rate: 0.000 | time: 15.1 seconds\n",
      "10/10 [==============================] - 0s 53us/step\n",
      "Epoch: 000/14999 | Loss: 0.0020 | Episodes: 10 | Win count: 0 | Win rate: 0.000 | time: 16.6 seconds\n",
      "11/11 [==============================] - 0s 0us/step\n",
      "Epoch: 000/14999 | Loss: 0.0020 | Episodes: 11 | Win count: 0 | Win rate: 0.000 | time: 18.1 seconds\n",
      "12/12 [==============================] - 0s 89us/step\n",
      "Epoch: 000/14999 | Loss: 0.0017 | Episodes: 12 | Win count: 0 | Win rate: 0.000 | time: 19.6 seconds\n",
      "13/13 [==============================] - 0s 44us/step\n",
      "Epoch: 000/14999 | Loss: 0.0016 | Episodes: 13 | Win count: 0 | Win rate: 0.000 | time: 21.1 seconds\n",
      "14/14 [==============================] - 0s 38us/step\n",
      "Epoch: 000/14999 | Loss: 0.0015 | Episodes: 14 | Win count: 0 | Win rate: 0.000 | time: 22.6 seconds\n",
      "15/15 [==============================] - 0s 36us/step\n",
      "Epoch: 000/14999 | Loss: 0.0038 | Episodes: 15 | Win count: 0 | Win rate: 0.000 | time: 24.1 seconds\n",
      "16/16 [==============================] - 0s 34us/step\n",
      "Epoch: 000/14999 | Loss: 0.0023 | Episodes: 16 | Win count: 0 | Win rate: 0.000 | time: 25.7 seconds\n",
      "17/17 [==============================] - 0s 32us/step\n",
      "Epoch: 000/14999 | Loss: 0.0017 | Episodes: 17 | Win count: 0 | Win rate: 0.000 | time: 27.2 seconds\n",
      "18/18 [==============================] - 0s 30us/step\n",
      "Epoch: 000/14999 | Loss: 0.0013 | Episodes: 18 | Win count: 0 | Win rate: 0.000 | time: 28.7 seconds\n",
      "19/19 [==============================] - 0s 28us/step\n",
      "Epoch: 000/14999 | Loss: 0.0012 | Episodes: 19 | Win count: 0 | Win rate: 0.000 | time: 30.3 seconds\n",
      "20/20 [==============================] - 0s 26us/step\n",
      "Epoch: 000/14999 | Loss: 0.0014 | Episodes: 20 | Win count: 0 | Win rate: 0.000 | time: 31.9 seconds\n",
      "21/21 [==============================] - 0s 25us/step\n",
      "Epoch: 000/14999 | Loss: 0.0013 | Episodes: 21 | Win count: 0 | Win rate: 0.000 | time: 33.4 seconds\n",
      "22/22 [==============================] - 0s 25us/step\n",
      "Epoch: 000/14999 | Loss: 0.0012 | Episodes: 22 | Win count: 0 | Win rate: 0.000 | time: 35.0 seconds\n",
      "23/23 [==============================] - 0s 24us/step\n",
      "Epoch: 000/14999 | Loss: 0.0012 | Episodes: 23 | Win count: 0 | Win rate: 0.000 | time: 36.5 seconds\n",
      "24/24 [==============================] - 0s 22us/step\n",
      "Epoch: 000/14999 | Loss: 0.0012 | Episodes: 24 | Win count: 0 | Win rate: 0.000 | time: 38.1 seconds\n",
      "25/25 [==============================] - 0s 21us/step\n",
      "Epoch: 000/14999 | Loss: 0.0011 | Episodes: 25 | Win count: 0 | Win rate: 0.000 | time: 39.7 seconds\n",
      "26/26 [==============================] - 0s 20us/step\n",
      "Epoch: 000/14999 | Loss: 0.0010 | Episodes: 26 | Win count: 0 | Win rate: 0.000 | time: 41.3 seconds\n",
      "27/27 [==============================] - 0s 20us/step\n",
      "Epoch: 000/14999 | Loss: 0.0010 | Episodes: 27 | Win count: 0 | Win rate: 0.000 | time: 42.8 seconds\n",
      "28/28 [==============================] - 0s 18us/step\n",
      "Epoch: 000/14999 | Loss: 0.0010 | Episodes: 28 | Win count: 0 | Win rate: 0.000 | time: 44.4 seconds\n",
      "29/29 [==============================] - 0s 36us/step\n",
      "Epoch: 000/14999 | Loss: 0.0009 | Episodes: 29 | Win count: 0 | Win rate: 0.000 | time: 46.0 seconds\n",
      "30/30 [==============================] - 0s 18us/step\n",
      "Epoch: 000/14999 | Loss: 0.0009 | Episodes: 30 | Win count: 0 | Win rate: 0.000 | time: 47.6 seconds\n",
      "31/31 [==============================] - 0s 18us/step\n",
      "Epoch: 000/14999 | Loss: 0.0011 | Episodes: 31 | Win count: 0 | Win rate: 0.000 | time: 49.1 seconds\n",
      "32/32 [==============================] - 0s 87us/step\n",
      "Epoch: 000/14999 | Loss: 0.0011 | Episodes: 32 | Win count: 0 | Win rate: 0.000 | time: 54.2 seconds\n",
      "32/32 [==============================] - 0s 88us/step\n",
      "Epoch: 000/14999 | Loss: 0.0012 | Episodes: 33 | Win count: 0 | Win rate: 0.000 | time: 59.1 seconds\n",
      "32/32 [==============================] - 0s 52us/step\n",
      "Epoch: 000/14999 | Loss: 0.0009 | Episodes: 34 | Win count: 0 | Win rate: 0.000 | time: 64.0 seconds\n",
      "32/32 [==============================] - 0s 314us/step\n",
      "Epoch: 000/14999 | Loss: 0.0009 | Episodes: 35 | Win count: 0 | Win rate: 0.000 | time: 70.7 seconds\n",
      "32/32 [==============================] - 0s 70us/step\n",
      "Epoch: 000/14999 | Loss: 0.0010 | Episodes: 36 | Win count: 0 | Win rate: 0.000 | time: 79.0 seconds\n",
      "32/32 [==============================] - 0s 267us/step\n",
      "Epoch: 000/14999 | Loss: 0.0011 | Episodes: 37 | Win count: 0 | Win rate: 0.000 | time: 87.8 seconds\n",
      "32/32 [==============================] - 0s 17us/step\n",
      "Epoch: 000/14999 | Loss: 0.0009 | Episodes: 38 | Win count: 0 | Win rate: 0.000 | time: 95.1 seconds\n",
      "32/32 [==============================] - 0s 104us/step\n",
      "Epoch: 000/14999 | Loss: 0.0011 | Episodes: 39 | Win count: 0 | Win rate: 0.000 | time: 103.8 seconds\n",
      "32/32 [==============================] - 0s 87us/step\n",
      "Epoch: 000/14999 | Loss: 0.0008 | Episodes: 40 | Win count: 0 | Win rate: 0.000 | time: 111.2 seconds\n",
      "32/32 [==============================] - 0s 192us/step\n",
      "Epoch: 000/14999 | Loss: 0.0013 | Episodes: 41 | Win count: 0 | Win rate: 0.000 | time: 118.8 seconds\n",
      "32/32 [==============================] - 0s 36us/step\n",
      "Epoch: 000/14999 | Loss: 0.0008 | Episodes: 42 | Win count: 0 | Win rate: 0.000 | time: 127.0 seconds\n",
      "32/32 [==============================] - 0s 70us/step\n",
      "Epoch: 000/14999 | Loss: 0.0009 | Episodes: 43 | Win count: 0 | Win rate: 0.000 | time: 132.0 seconds\n",
      "32/32 [==============================] - 0s 87us/step\n",
      "Epoch: 000/14999 | Loss: 0.0009 | Episodes: 44 | Win count: 0 | Win rate: 0.000 | time: 137.1 seconds\n",
      "32/32 [==============================] - 0s 155us/step\n",
      "Epoch: 000/14999 | Loss: 0.0009 | Episodes: 45 | Win count: 0 | Win rate: 0.000 | time: 142.6 seconds\n",
      "32/32 [==============================] - 0s 87us/step\n",
      "Epoch: 000/14999 | Loss: 0.0014 | Episodes: 46 | Win count: 0 | Win rate: 0.000 | time: 147.7 seconds\n",
      "32/32 [==============================] - 0s 52us/step\n",
      "Epoch: 000/14999 | Loss: 0.0011 | Episodes: 47 | Win count: 0 | Win rate: 0.000 | time: 152.4 seconds\n",
      "32/32 [==============================] - 0s 35us/step\n",
      "Epoch: 000/14999 | Loss: 0.0009 | Episodes: 48 | Win count: 0 | Win rate: 0.000 | time: 157.4 seconds\n",
      "32/32 [==============================] - 0s 16us/step\n",
      "Epoch: 000/14999 | Loss: 0.0009 | Episodes: 49 | Win count: 0 | Win rate: 0.000 | time: 162.5 seconds\n",
      "32/32 [==============================] - 0s 35us/step\n",
      "Epoch: 000/14999 | Loss: 0.0008 | Episodes: 50 | Win count: 0 | Win rate: 0.000 | time: 167.7 seconds\n",
      "32/32 [==============================] - 0s 34us/step\n",
      "Epoch: 000/14999 | Loss: 0.0010 | Episodes: 51 | Win count: 0 | Win rate: 0.000 | time: 172.6 seconds\n",
      "32/32 [==============================] - 0s 70us/step\n",
      "Epoch: 000/14999 | Loss: 0.0011 | Episodes: 52 | Win count: 0 | Win rate: 0.000 | time: 177.8 seconds\n",
      "32/32 [==============================] - 0s 35us/step\n",
      "Epoch: 000/14999 | Loss: 0.0010 | Episodes: 53 | Win count: 0 | Win rate: 0.000 | time: 182.7 seconds\n"
     ]
    },
    {
     "name": "stdout",
     "output_type": "stream",
     "text": [
      "32/32 [==============================] - 0s 87us/step\n",
      "Epoch: 000/14999 | Loss: 0.0012 | Episodes: 54 | Win count: 0 | Win rate: 0.000 | time: 187.9 seconds\n",
      "32/32 [==============================] - 0s 52us/step\n",
      "Epoch: 000/14999 | Loss: 0.0008 | Episodes: 55 | Win count: 0 | Win rate: 0.000 | time: 192.8 seconds\n",
      "32/32 [==============================] - 0s 381us/step\n",
      "Epoch: 000/14999 | Loss: 0.0010 | Episodes: 56 | Win count: 0 | Win rate: 0.000 | time: 197.9 seconds\n",
      "32/32 [==============================] - 0s 0us/step\n",
      "Epoch: 000/14999 | Loss: 0.0006 | Episodes: 57 | Win count: 0 | Win rate: 0.000 | time: 203.0 seconds\n",
      "32/32 [==============================] - 0s 70us/step\n",
      "Epoch: 000/14999 | Loss: 0.0009 | Episodes: 58 | Win count: 0 | Win rate: 0.000 | time: 208.4 seconds\n",
      "32/32 [==============================] - 0s 0us/step\n",
      "Epoch: 000/14999 | Loss: 0.0006 | Episodes: 59 | Win count: 0 | Win rate: 0.000 | time: 213.5 seconds\n",
      "32/32 [==============================] - 0s 33us/step\n",
      "Epoch: 000/14999 | Loss: 0.0007 | Episodes: 60 | Win count: 0 | Win rate: 0.000 | time: 218.4 seconds\n",
      "32/32 [==============================] - 0s 87us/step\n",
      "Epoch: 000/14999 | Loss: 0.0009 | Episodes: 61 | Win count: 0 | Win rate: 0.000 | time: 223.4 seconds\n",
      "32/32 [==============================] - 0s 53us/step\n",
      "Epoch: 000/14999 | Loss: 0.0013 | Episodes: 62 | Win count: 0 | Win rate: 0.000 | time: 228.6 seconds\n",
      "32/32 [==============================] - 0s 53us/step\n",
      "Epoch: 000/14999 | Loss: 0.0012 | Episodes: 63 | Win count: 0 | Win rate: 0.000 | time: 233.8 seconds\n",
      "32/32 [==============================] - 0s 87us/step\n",
      "Epoch: 000/14999 | Loss: 0.0008 | Episodes: 64 | Win count: 0 | Win rate: 0.000 | time: 238.6 seconds\n",
      "32/32 [==============================] - 0s 54us/step\n",
      "Epoch: 000/14999 | Loss: 0.0007 | Episodes: 65 | Win count: 0 | Win rate: 0.000 | time: 243.5 seconds\n",
      "32/32 [==============================] - 0s 70us/step\n",
      "Epoch: 000/14999 | Loss: 0.0007 | Episodes: 66 | Win count: 0 | Win rate: 0.000 | time: 248.5 seconds\n",
      "32/32 [==============================] - 0s 87us/step\n",
      "Epoch: 000/14999 | Loss: 0.0010 | Episodes: 67 | Win count: 0 | Win rate: 0.000 | time: 253.5 seconds\n",
      "32/32 [==============================] - 0s 53us/step\n",
      "Epoch: 000/14999 | Loss: 0.0006 | Episodes: 68 | Win count: 0 | Win rate: 0.000 | time: 258.3 seconds\n",
      "32/32 [==============================] - 0s 71us/step\n",
      "Epoch: 000/14999 | Loss: 0.0008 | Episodes: 69 | Win count: 0 | Win rate: 0.000 | time: 263.4 seconds\n",
      "32/32 [==============================] - 0s 51us/step\n",
      "Epoch: 000/14999 | Loss: 0.0010 | Episodes: 70 | Win count: 0 | Win rate: 0.000 | time: 268.2 seconds\n",
      "32/32 [==============================] - 0s 105us/step\n",
      "Epoch: 000/14999 | Loss: 0.0007 | Episodes: 71 | Win count: 0 | Win rate: 0.000 | time: 273.7 seconds\n",
      "32/32 [==============================] - 0s 53us/step\n",
      "Epoch: 000/14999 | Loss: 0.0009 | Episodes: 72 | Win count: 0 | Win rate: 0.000 | time: 278.8 seconds\n",
      "32/32 [==============================] - 0s 88us/step\n",
      "Epoch: 000/14999 | Loss: 0.0003 | Episodes: 73 | Win count: 0 | Win rate: 0.000 | time: 283.8 seconds\n",
      "32/32 [==============================] - 0s 86us/step\n",
      "Epoch: 000/14999 | Loss: 0.0006 | Episodes: 74 | Win count: 0 | Win rate: 0.000 | time: 292.1 seconds\n",
      "32/32 [==============================] - 0s 52us/step\n",
      "Epoch: 000/14999 | Loss: 0.0004 | Episodes: 75 | Win count: 0 | Win rate: 0.000 | time: 298.9 seconds\n",
      "32/32 [==============================] - 0s 106us/step\n",
      "Epoch: 000/14999 | Loss: 0.0003 | Episodes: 76 | Win count: 0 | Win rate: 0.000 | time: 305.2 seconds\n",
      "32/32 [==============================] - 0s 53us/step\n",
      "Epoch: 000/14999 | Loss: 0.0005 | Episodes: 77 | Win count: 0 | Win rate: 0.000 | time: 311.2 seconds\n",
      "32/32 [==============================] - 0s 53us/step\n",
      "Epoch: 000/14999 | Loss: 0.0011 | Episodes: 78 | Win count: 0 | Win rate: 0.000 | time: 316.3 seconds\n",
      "32/32 [==============================] - 0s 71us/step\n",
      "Epoch: 000/14999 | Loss: 0.0007 | Episodes: 79 | Win count: 0 | Win rate: 0.000 | time: 321.4 seconds\n",
      "32/32 [==============================] - 0s 87us/step\n",
      "Epoch: 000/14999 | Loss: 0.0007 | Episodes: 80 | Win count: 0 | Win rate: 0.000 | time: 326.5 seconds\n",
      "32/32 [==============================] - 0s 53us/step\n",
      "Epoch: 000/14999 | Loss: 0.0009 | Episodes: 81 | Win count: 0 | Win rate: 0.000 | time: 331.7 seconds\n",
      "32/32 [==============================] - 0s 69us/step\n",
      "Epoch: 000/14999 | Loss: 0.0007 | Episodes: 82 | Win count: 0 | Win rate: 0.000 | time: 337.6 seconds\n",
      "32/32 [==============================] - 0s 36us/step\n",
      "Epoch: 000/14999 | Loss: 0.0011 | Episodes: 83 | Win count: 0 | Win rate: 0.000 | time: 343.1 seconds\n",
      "32/32 [==============================] - 0s 88us/step\n",
      "Epoch: 000/14999 | Loss: 0.0012 | Episodes: 84 | Win count: 0 | Win rate: 0.000 | time: 348.3 seconds\n",
      "32/32 [==============================] - 0s 54us/step\n",
      "Epoch: 000/14999 | Loss: 0.0012 | Episodes: 85 | Win count: 0 | Win rate: 0.000 | time: 353.5 seconds\n",
      "32/32 [==============================] - 0s 88us/step\n",
      "Epoch: 000/14999 | Loss: 0.0002 | Episodes: 86 | Win count: 0 | Win rate: 0.000 | time: 358.6 seconds\n",
      "32/32 [==============================] - 0s 70us/step\n",
      "Epoch: 000/14999 | Loss: 0.0007 | Episodes: 87 | Win count: 0 | Win rate: 0.000 | time: 363.6 seconds\n",
      "32/32 [==============================] - 0s 35us/step\n",
      "Epoch: 000/14999 | Loss: 0.0006 | Episodes: 88 | Win count: 0 | Win rate: 0.000 | time: 369.7 seconds\n",
      "32/32 [==============================] - 0s 51us/step\n",
      "Epoch: 000/14999 | Loss: 0.0007 | Episodes: 89 | Win count: 0 | Win rate: 0.000 | time: 376.1 seconds\n",
      "32/32 [==============================] - 0s 86us/step\n",
      "Epoch: 000/14999 | Loss: 0.0007 | Episodes: 90 | Win count: 0 | Win rate: 0.000 | time: 382.7 seconds\n",
      "32/32 [==============================] - 0s 175us/step\n",
      "Epoch: 000/14999 | Loss: 0.0003 | Episodes: 91 | Win count: 0 | Win rate: 0.000 | time: 389.8 seconds\n",
      "32/32 [==============================] - 0s 52us/step\n",
      "Epoch: 000/14999 | Loss: 0.0008 | Episodes: 92 | Win count: 0 | Win rate: 0.000 | time: 396.8 seconds\n",
      "32/32 [==============================] - 0s 17us/step\n",
      "Epoch: 000/14999 | Loss: 0.0005 | Episodes: 93 | Win count: 0 | Win rate: 0.000 | time: 6.74 minutes\n",
      "32/32 [==============================] - 0s 36us/step\n",
      "Epoch: 000/14999 | Loss: 0.0007 | Episodes: 94 | Win count: 0 | Win rate: 0.000 | time: 6.84 minutes\n",
      "32/32 [==============================] - 0s 52us/step\n",
      "Epoch: 000/14999 | Loss: 0.0007 | Episodes: 95 | Win count: 0 | Win rate: 0.000 | time: 6.95 minutes\n",
      "32/32 [==============================] - 0s 71us/step\n",
      "Epoch: 000/14999 | Loss: 0.0002 | Episodes: 96 | Win count: 0 | Win rate: 0.000 | time: 7.05 minutes\n",
      "32/32 [==============================] - 0s 70us/step\n",
      "Epoch: 000/14999 | Loss: 0.0004 | Episodes: 97 | Win count: 0 | Win rate: 0.000 | time: 7.15 minutes\n",
      "32/32 [==============================] - 0s 71us/step\n",
      "Epoch: 000/14999 | Loss: 0.0002 | Episodes: 98 | Win count: 0 | Win rate: 0.000 | time: 7.23 minutes\n",
      "32/32 [==============================] - 0s 70us/step\n",
      "Epoch: 000/14999 | Loss: 0.0006 | Episodes: 99 | Win count: 0 | Win rate: 0.000 | time: 7.32 minutes\n",
      "32/32 [==============================] - 0s 87us/step\n",
      "Epoch: 000/14999 | Loss: 0.0009 | Episodes: 100 | Win count: 0 | Win rate: 0.000 | time: 7.40 minutes\n",
      "32/32 [==============================] - 0s 70us/step\n",
      "Epoch: 000/14999 | Loss: 0.0011 | Episodes: 101 | Win count: 0 | Win rate: 0.000 | time: 7.48 minutes\n",
      "32/32 [==============================] - 0s 52us/step\n",
      "Epoch: 000/14999 | Loss: 0.0004 | Episodes: 102 | Win count: 0 | Win rate: 0.000 | time: 7.57 minutes\n",
      "32/32 [==============================] - 0s 17us/step\n",
      "Epoch: 000/14999 | Loss: 0.0008 | Episodes: 103 | Win count: 0 | Win rate: 0.000 | time: 7.65 minutes\n",
      "32/32 [==============================] - 0s 87us/step\n",
      "Epoch: 000/14999 | Loss: 0.0003 | Episodes: 104 | Win count: 0 | Win rate: 0.000 | time: 7.73 minutes\n",
      "32/32 [==============================] - 0s 35us/step\n",
      "Epoch: 000/14999 | Loss: 0.0004 | Episodes: 105 | Win count: 0 | Win rate: 0.000 | time: 7.83 minutes\n",
      "32/32 [==============================] - 0s 53us/step\n",
      "Epoch: 000/14999 | Loss: 0.0007 | Episodes: 106 | Win count: 0 | Win rate: 0.000 | time: 7.92 minutes\n"
     ]
    },
    {
     "name": "stdout",
     "output_type": "stream",
     "text": [
      "32/32 [==============================] - 0s 53us/step\n",
      "Epoch: 000/14999 | Loss: 0.0010 | Episodes: 107 | Win count: 0 | Win rate: 0.000 | time: 8.00 minutes\n",
      "32/32 [==============================] - 0s 51us/step\n",
      "Epoch: 000/14999 | Loss: 0.0005 | Episodes: 108 | Win count: 0 | Win rate: 0.000 | time: 8.08 minutes\n",
      "32/32 [==============================] - 0s 71us/step\n",
      "Epoch: 000/14999 | Loss: 0.0007 | Episodes: 109 | Win count: 0 | Win rate: 0.000 | time: 8.17 minutes\n",
      "32/32 [==============================] - 0s 138us/step\n",
      "Epoch: 000/14999 | Loss: 0.0011 | Episodes: 110 | Win count: 0 | Win rate: 0.000 | time: 8.25 minutes\n",
      "32/32 [==============================] - 0s 70us/step\n",
      "Epoch: 000/14999 | Loss: 0.0009 | Episodes: 111 | Win count: 0 | Win rate: 0.000 | time: 8.34 minutes\n",
      "32/32 [==============================] - 0s 35us/step\n",
      "Epoch: 000/14999 | Loss: 0.0003 | Episodes: 112 | Win count: 0 | Win rate: 0.000 | time: 8.42 minutes\n",
      "32/32 [==============================] - 0s 35us/step\n",
      "Epoch: 000/14999 | Loss: 0.0009 | Episodes: 113 | Win count: 0 | Win rate: 0.000 | time: 8.50 minutes\n",
      "32/32 [==============================] - 0s 53us/step\n",
      "Epoch: 000/14999 | Loss: 0.0002 | Episodes: 114 | Win count: 0 | Win rate: 0.000 | time: 8.59 minutes\n",
      "32/32 [==============================] - 0s 34us/step\n",
      "Epoch: 000/14999 | Loss: 0.0003 | Episodes: 115 | Win count: 0 | Win rate: 0.000 | time: 8.67 minutes\n",
      "32/32 [==============================] - 0s 88us/step\n",
      "Epoch: 000/14999 | Loss: 0.0007 | Episodes: 116 | Win count: 0 | Win rate: 0.000 | time: 8.75 minutes\n",
      "32/32 [==============================] - 0s 105us/step\n",
      "Epoch: 000/14999 | Loss: 0.0004 | Episodes: 117 | Win count: 0 | Win rate: 0.000 | time: 8.83 minutes\n",
      "32/32 [==============================] - 0s 69us/step\n",
      "Epoch: 000/14999 | Loss: 0.0005 | Episodes: 118 | Win count: 0 | Win rate: 0.000 | time: 8.92 minutes\n",
      "32/32 [==============================] - 0s 106us/step\n",
      "Epoch: 000/14999 | Loss: 0.0008 | Episodes: 119 | Win count: 0 | Win rate: 0.000 | time: 9.01 minutes\n",
      "32/32 [==============================] - 0s 53us/step\n",
      "Epoch: 000/14999 | Loss: 0.0002 | Episodes: 120 | Win count: 0 | Win rate: 0.000 | time: 9.09 minutes\n",
      "32/32 [==============================] - 0s 88us/step\n",
      "Epoch: 000/14999 | Loss: 0.0009 | Episodes: 121 | Win count: 0 | Win rate: 0.000 | time: 9.17 minutes\n",
      "32/32 [==============================] - 0s 53us/step\n",
      "Epoch: 000/14999 | Loss: 0.0006 | Episodes: 122 | Win count: 0 | Win rate: 0.000 | time: 9.26 minutes\n",
      "32/32 [==============================] - 0s 53us/step\n",
      "Epoch: 000/14999 | Loss: 0.0003 | Episodes: 123 | Win count: 0 | Win rate: 0.000 | time: 9.34 minutes\n",
      "32/32 [==============================] - 0s 88us/step\n",
      "Epoch: 000/14999 | Loss: 0.0006 | Episodes: 124 | Win count: 0 | Win rate: 0.000 | time: 9.43 minutes\n",
      "32/32 [==============================] - 0s 51us/step\n",
      "Epoch: 000/14999 | Loss: 0.0006 | Episodes: 125 | Win count: 0 | Win rate: 0.000 | time: 9.51 minutes\n",
      "32/32 [==============================] - 0s 54us/step\n",
      "Epoch: 000/14999 | Loss: 0.0006 | Episodes: 126 | Win count: 0 | Win rate: 0.000 | time: 9.59 minutes\n",
      "32/32 [==============================] - 0s 53us/step\n",
      "Epoch: 000/14999 | Loss: 0.0007 | Episodes: 127 | Win count: 0 | Win rate: 0.000 | time: 9.68 minutes\n",
      "32/32 [==============================] - 0s 70us/step\n",
      "Epoch: 000/14999 | Loss: 0.0005 | Episodes: 128 | Win count: 0 | Win rate: 0.000 | time: 9.76 minutes\n",
      "32/32 [==============================] - 0s 88us/step\n",
      "Epoch: 000/14999 | Loss: 0.0008 | Episodes: 129 | Win count: 0 | Win rate: 0.000 | time: 9.84 minutes\n",
      "32/32 [==============================] - 0s 88us/step\n",
      "Epoch: 000/14999 | Loss: 0.0004 | Episodes: 130 | Win count: 0 | Win rate: 0.000 | time: 9.92 minutes\n",
      "32/32 [==============================] - 0s 70us/step\n",
      "Epoch: 000/14999 | Loss: 0.0009 | Episodes: 131 | Win count: 0 | Win rate: 0.000 | time: 10.01 minutes\n",
      "32/32 [==============================] - 0s 88us/step\n",
      "Epoch: 000/14999 | Loss: 0.0005 | Episodes: 132 | Win count: 0 | Win rate: 0.000 | time: 10.10 minutes\n",
      "32/32 [==============================] - 0s 87us/step\n",
      "Epoch: 000/14999 | Loss: 0.0009 | Episodes: 133 | Win count: 0 | Win rate: 0.000 | time: 10.19 minutes\n",
      "32/32 [==============================] - 0s 52us/step\n",
      "Epoch: 000/14999 | Loss: 0.0001 | Episodes: 134 | Win count: 0 | Win rate: 0.000 | time: 10.27 minutes\n",
      "32/32 [==============================] - 0s 192us/step\n",
      "Epoch: 000/14999 | Loss: 0.0003 | Episodes: 135 | Win count: 0 | Win rate: 0.000 | time: 10.35 minutes\n",
      "32/32 [==============================] - 0s 244us/step\n",
      "Epoch: 000/14999 | Loss: 0.0006 | Episodes: 136 | Win count: 0 | Win rate: 0.000 | time: 10.43 minutes\n",
      "32/32 [==============================] - 0s 34us/step\n",
      "Epoch: 000/14999 | Loss: 0.0003 | Episodes: 137 | Win count: 0 | Win rate: 0.000 | time: 10.52 minutes\n",
      "32/32 [==============================] - 0s 52us/step\n",
      "Epoch: 000/14999 | Loss: 0.0000 | Episodes: 138 | Win count: 0 | Win rate: 0.000 | time: 10.60 minutes\n",
      "32/32 [==============================] - 0s 36us/step\n",
      "Epoch: 000/14999 | Loss: 0.0006 | Episodes: 139 | Win count: 0 | Win rate: 0.000 | time: 10.68 minutes\n",
      "32/32 [==============================] - 0s 35us/step\n",
      "Epoch: 000/14999 | Loss: 0.0009 | Episodes: 140 | Win count: 0 | Win rate: 0.000 | time: 10.76 minutes\n",
      "32/32 [==============================] - 0s 86us/step\n",
      "Epoch: 000/14999 | Loss: 0.0000 | Episodes: 141 | Win count: 0 | Win rate: 0.000 | time: 10.84 minutes\n",
      "32/32 [==============================] - 0s 54us/step\n",
      "Epoch: 000/14999 | Loss: 0.0003 | Episodes: 142 | Win count: 0 | Win rate: 0.000 | time: 10.93 minutes\n",
      "32/32 [==============================] - 0s 36us/step\n",
      "Epoch: 000/14999 | Loss: 0.0006 | Episodes: 143 | Win count: 0 | Win rate: 0.000 | time: 11.01 minutes\n",
      "32/32 [==============================] - 0s 54us/step\n",
      "Epoch: 000/14999 | Loss: 0.0002 | Episodes: 144 | Win count: 0 | Win rate: 0.000 | time: 11.09 minutes\n",
      "32/32 [==============================] - 0s 17us/step\n",
      "Epoch: 000/14999 | Loss: 0.0007 | Episodes: 145 | Win count: 0 | Win rate: 0.000 | time: 11.21 minutes\n",
      "32/32 [==============================] - 0s 52us/step\n",
      "Epoch: 000/14999 | Loss: 0.0004 | Episodes: 146 | Win count: 0 | Win rate: 0.000 | time: 11.32 minutes\n",
      "32/32 [==============================] - 0s 174us/step\n",
      "Epoch: 000/14999 | Loss: 0.0005 | Episodes: 147 | Win count: 0 | Win rate: 0.000 | time: 11.42 minutes\n",
      "32/32 [==============================] - 0s 17us/step\n",
      "Epoch: 000/14999 | Loss: 0.0003 | Episodes: 148 | Win count: 0 | Win rate: 0.000 | time: 11.52 minutes\n",
      "32/32 [==============================] - 0s 36us/step\n",
      "Epoch: 000/14999 | Loss: 0.0007 | Episodes: 149 | Win count: 0 | Win rate: 0.000 | time: 11.63 minutes\n",
      "32/32 [==============================] - 0s 17us/step\n",
      "Epoch: 000/14999 | Loss: 0.0002 | Episodes: 150 | Win count: 0 | Win rate: 0.000 | time: 11.72 minutes\n",
      "32/32 [==============================] - 0s 18us/step\n",
      "Epoch: 000/14999 | Loss: 0.0004 | Episodes: 151 | Win count: 0 | Win rate: 0.000 | time: 11.84 minutes\n",
      "32/32 [==============================] - 0s 35us/step\n",
      "Epoch: 000/14999 | Loss: 0.0005 | Episodes: 152 | Win count: 0 | Win rate: 0.000 | time: 11.95 minutes\n",
      "32/32 [==============================] - 0s 35us/step\n",
      "Epoch: 000/14999 | Loss: 0.0010 | Episodes: 153 | Win count: 0 | Win rate: 0.000 | time: 12.06 minutes\n",
      "32/32 [==============================] - 0s 53us/step\n",
      "Epoch: 000/14999 | Loss: 0.0007 | Episodes: 154 | Win count: 0 | Win rate: 0.000 | time: 12.16 minutes\n",
      "32/32 [==============================] - 0s 52us/step\n",
      "n_epoch: 0, max_mem: 512, data: 32, time: 12.25 minutes\n"
     ]
    },
    {
     "data": {
      "text/plain": [
       "734.965941"
      ]
     },
     "execution_count": 78,
     "metadata": {},
     "output_type": "execute_result"
    }
   ],
   "source": [
    "model = build_model(maze)\n",
    "qtrain(model, maze, epochs=1000, max_memory=8*maze.size, data_size=32)"
   ]
  },
  {
   "cell_type": "markdown",
   "metadata": {},
   "source": [
    "This cell will check to see if the model passes the completion check. Note: This could take several minutes."
   ]
  },
  {
   "cell_type": "code",
   "execution_count": 79,
   "metadata": {},
   "outputs": [
    {
     "data": {
      "text/plain": [
       "<matplotlib.image.AxesImage at 0x25bc0439848>"
      ]
     },
     "execution_count": 79,
     "metadata": {},
     "output_type": "execute_result"
    },
    {
     "data": {
      "image/png": "[encoded data removed]",
      "text/plain": [
       "<Figure size 432x288 with 1 Axes>"
      ]
     },
     "metadata": {
      "needs_background": "light"
     },
     "output_type": "display_data"
    }
   ],
   "source": [
    "completion_check(model, qmaze)\n",
    "show(qmaze)"
   ]
  },
  {
   "cell_type": "markdown",
   "metadata": {},
   "source": [
    "This cell will test your model for one game. It will start the pirate at the top-left corner and run play_game. The agent should find a path from the starting position to the target (treasure). The treasure is located in the bottom-right corner."
   ]
  },
  {
   "cell_type": "code",
   "execution_count": 80,
   "metadata": {},
   "outputs": [
    {
     "data": {
      "text/plain": [
       "<matplotlib.image.AxesImage at 0x25bc5c6cb08>"
      ]
     },
     "execution_count": 80,
     "metadata": {},
     "output_type": "execute_result"
    },
    {
     "data": {
      "image/png": "[encoded data removed]",
      "text/plain": [
       "<Figure size 432x288 with 1 Axes>"
      ]
     },
     "metadata": {
      "needs_background": "light"
     },
     "output_type": "display_data"
    }
   ],
   "source": [
    "pirate_start = (0, 0)\n",
    "play_game(model, qmaze, pirate_start)\n",
    "show(qmaze)"
   ]
  },
  {
   "cell_type": "markdown",
   "metadata": {},
   "source": [
    "## Save and Submit Your Work\n",
    "After you have finished creating the code for your notebook, save your work. Make sure that your notebook contains your name in the filename (e.g. Doe_Jane_ProjectTwo.ipynb). This will help your instructor access and grade your work easily. Download a copy of your IPYNB file and submit it to Brightspace. Refer to the Jupyter Notebook in Apporto Tutorial if you need help with these tasks."
   ]
  }
 ],
 "metadata": {
  "kernelspec": {
   "display_name": "Python 3",
   "language": "python",
   "name": "python3"
  },
  "language_info": {
   "codemirror_mode": {
    "name": "ipython",
    "version": 3
   },
   "file_extension": ".py",
   "mimetype": "text/x-python",
   "name": "python",
   "nbconvert_exporter": "python",
   "pygments_lexer": "ipython3",
   "version": "3.7.4"
  }
 },
 "nbformat": 4,
 "nbformat_minor": 2
}
